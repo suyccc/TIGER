{
 "cells": [
  {
   "cell_type": "code",
   "execution_count": 33,
   "metadata": {},
   "outputs": [],
   "source": [
    "import torchaudio\n",
    "import os\n",
    "root_path = '/gpfs-flash/hulab/public_datasets/audio_datasets/librispeech/Libri3Mix/wav16k/min/'"
   ]
  },
  {
   "cell_type": "code",
   "execution_count": 34,
   "metadata": {},
   "outputs": [
    {
     "data": {
      "text/plain": [
       "['metadata', 'dev', 'train-360', 'train-100', 'test']"
      ]
     },
     "execution_count": 34,
     "metadata": {},
     "output_type": "execute_result"
    }
   ],
   "source": [
    "# list all files in the directory\n",
    "files = os.listdir(root_path)\n",
    "files"
   ]
  },
  {
   "cell_type": "code",
   "execution_count": 31,
   "metadata": {},
   "outputs": [],
   "source": [
    "# speaker_wav, _ = torchaudio.load(f'{root_path}/3853-163249-0007_3081-166546-0042_2803-154328-0011.wav')\n",
    "speaker_wav, _ = torchaudio.load(f'{root_path}/8297-275154-0001_1988-147956-0021_6241-61946-0002.wav')"
   ]
  },
  {
   "cell_type": "code",
   "execution_count": 32,
   "metadata": {},
   "outputs": [
    {
     "data": {
      "text/plain": [
       "torch.Size([1, 78960])"
      ]
     },
     "execution_count": 32,
     "metadata": {},
     "output_type": "execute_result"
    }
   ],
   "source": [
    "speaker_wav.shape"
   ]
  }
 ],
 "metadata": {
  "language_info": {
   "name": "python"
  }
 },
 "nbformat": 4,
 "nbformat_minor": 2
}
